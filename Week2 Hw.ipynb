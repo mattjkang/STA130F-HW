{
 "cells": [
  {
   "cell_type": "markdown",
   "id": "220ee9a4",
   "metadata": {},
   "source": [
    "## Question 1"
   ]
  },
  {
   "cell_type": "code",
   "execution_count": 6,
   "id": "9adf1362",
   "metadata": {},
   "outputs": [
    {
     "data": {
      "text/plain": [
       "(0.6658, 0.3389)"
      ]
     },
     "execution_count": 6,
     "metadata": {},
     "output_type": "execute_result"
    }
   ],
   "source": [
    "import random\n",
    "\n",
    "def simulate_monty_hall(num_trials, switch=True):\n",
    "    win_count = 0\n",
    "\n",
    "    for _ in range(num_trials):\n",
    "        # Randomly assign the car behind one of the three doors\n",
    "        car_position = random.randint(0, 2)\n",
    "\n",
    "        # Contestant makes an initial choice\n",
    "        contestant_choice = random.randint(0, 2)\n",
    "\n",
    "        # Monty reveals a goat behind one of the two remaining doors\n",
    "        # Monty will never reveal the car\n",
    "        available_doors = [i for i in range(3) if i != contestant_choice and i != car_position]\n",
    "        monty_revealed_door = random.choice(available_doors)\n",
    "\n",
    "        # If the contestant switches, they choose the remaining unopened door\n",
    "        if switch:\n",
    "            remaining_door = [i for i in range(3) if i != contestant_choice and i != monty_revealed_door][0]\n",
    "            if remaining_door == car_position:\n",
    "                win_count += 1\n",
    "        else:\n",
    "            # If the contestant doesn't switch, they stick with their initial choice\n",
    "            if contestant_choice == car_position:\n",
    "                win_count += 1\n",
    "\n",
    "    return win_count / num_trials  # Return the win ratio\n",
    "\n",
    "# Simulate Monty Hall problem with switching\n",
    "num_trials = 10000\n",
    "switch_win_rate = simulate_monty_hall(num_trials, switch=True)\n",
    "stay_win_rate = simulate_monty_hall(num_trials, switch=False)\n",
    "\n",
    "switch_win_rate, stay_win_rate\n"
   ]
  },
  {
   "cell_type": "markdown",
   "id": "65cbacda",
   "metadata": {},
   "source": [
    "## Question 2"
   ]
  },
  {
   "cell_type": "code",
   "execution_count": 3,
   "id": "02225048",
   "metadata": {},
   "outputs": [
    {
     "data": {
      "text/plain": [
       "(0.0, 0.3349)"
      ]
     },
     "execution_count": 3,
     "metadata": {},
     "output_type": "execute_result"
    }
   ],
   "source": [
    "import random\n",
    "\n",
    "def simulate_monty_hall(num_trials, switch=True):\n",
    "    win_count = 0\n",
    "\n",
    "    for _ in range(num_trials):\n",
    "        # Randomly place the car behind one of the three doors\n",
    "        car_position = random.randint(0, 2)\n",
    "\n",
    "        # Contestant makes an initial random choice\n",
    "        contestant_choice = random.randint(0, 2)\n",
    "\n",
    "        # If the contestant switches, their new choice will be the remaining unopened door\n",
    "        if switch:\n",
    "            # The remaining door after Monty reveals a goat\n",
    "            # Monty can only reveal a door that is neither the contestant's choice nor the car\n",
    "            remaining_door = 3 - contestant_choice - (0 if contestant_choice == car_position else car_position)\n",
    "            if remaining_door == car_position:\n",
    "                win_count += 1\n",
    "        else:\n",
    "            # If the contestant doesn't switch, they win if their initial choice is the car\n",
    "            if contestant_choice == car_position:\n",
    "                win_count += 1\n",
    "\n",
    "    return win_count / num_trials\n",
    "\n",
    "# Simulate the Monty Hall problem with and without switching\n",
    "num_trials = 10000\n",
    "switch_win_rate = simulate_monty_hall(num_trials, switch=True)\n",
    "stay_win_rate = simulate_monty_hall(num_trials, switch=False)\n",
    "\n",
    "switch_win_rate, stay_win_rate"
   ]
  },
  {
   "cell_type": "code",
   "execution_count": 4,
   "id": "9b8c0b57",
   "metadata": {},
   "outputs": [
    {
     "data": {
      "text/plain": [
       "(0.0, 0.3415)"
      ]
     },
     "execution_count": 4,
     "metadata": {},
     "output_type": "execute_result"
    }
   ],
   "source": [
    "import random\n",
    "\n",
    "def simulate_monty_hall(num_trials, switch=True):\n",
    "    win_count = 0\n",
    "\n",
    "    for _ in range(num_trials):\n",
    "        # Randomly place the car behind one of the three doors\n",
    "        car_position = random.randint(0, 2)\n",
    "\n",
    "        # Contestant makes an initial random choice\n",
    "        contestant_choice = random.randint(0, 2)\n",
    "\n",
    "        # If the contestant switches, their new choice will be the remaining unopened door\n",
    "        if switch:\n",
    "            remaining_door = 3 - contestant_choice - (0 if contestant_choice == car_position else car_position)\n",
    "            if remaining_door == car_position:\n",
    "                win_count += 1\n",
    "        else:\n",
    "            # If the contestant doesn't switch, they win if their initial choice is the car\n",
    "            if contestant_choice == car_position:\n",
    "                win_count += 1\n",
    "\n",
    "    return win_count / float(num_trials)  # Ensure floating-point division\n",
    "\n",
    "# Simulate the Monty Hall problem with and without switching\n",
    "num_trials = 10000\n",
    "switch_win_rate = simulate_monty_hall(num_trials, switch=True)\n",
    "stay_win_rate = simulate_monty_hall(num_trials, switch=False)\n",
    "\n",
    "switch_win_rate, stay_win_rate"
   ]
  },
  {
   "cell_type": "code",
   "execution_count": 5,
   "id": "704188dd",
   "metadata": {},
   "outputs": [
    {
     "data": {
      "text/plain": [
       "(0.6656, 0.3339)"
      ]
     },
     "execution_count": 5,
     "metadata": {},
     "output_type": "execute_result"
    }
   ],
   "source": [
    "import random\n",
    "\n",
    "def simulate_monty_hall(num_trials, switch=True):\n",
    "    win_count = 0\n",
    "\n",
    "    for _ in range(num_trials):\n",
    "        # Randomly place the car behind one of the three doors\n",
    "        car_position = random.randint(0, 2)\n",
    "\n",
    "        # Contestant makes an initial random choice\n",
    "        contestant_choice = random.randint(0, 2)\n",
    "\n",
    "        # Monty reveals a door that is not the contestant's choice and not the car\n",
    "        available_doors = [door for door in range(3) if door != contestant_choice and door != car_position]\n",
    "        monty_revealed_door = random.choice(available_doors)\n",
    "\n",
    "        if switch:\n",
    "            # Switch to the only other remaining door\n",
    "            remaining_door = [door for door in range(3) if door != contestant_choice and door != monty_revealed_door][0]\n",
    "            if remaining_door == car_position:\n",
    "                win_count += 1\n",
    "        else:\n",
    "            # If staying, check if the initial choice is the car\n",
    "            if contestant_choice == car_position:\n",
    "                win_count += 1\n",
    "\n",
    "    return win_count / float(num_trials)\n",
    "\n",
    "# Simulate the Monty Hall problem with and without switching\n",
    "num_trials = 10000\n",
    "switch_win_rate = simulate_monty_hall(num_trials, switch=True)\n",
    "stay_win_rate = simulate_monty_hall(num_trials, switch=False)\n",
    "\n",
    "switch_win_rate, stay_win_rate\n"
   ]
  },
  {
   "cell_type": "code",
   "execution_count": null,
   "id": "9efc08e5",
   "metadata": {},
   "outputs": [],
   "source": [
    "# With the use of for loop suggested by ChatGPT, I didn't really see a change from the original code that it had \n",
    "# printed originally for the final code that worked - as the previous iterations printed 0.0 for switch_win_rate\n",
    "# instead of 0.66 as it should have."
   ]
  },
  {
   "cell_type": "markdown",
   "id": "cd35442c",
   "metadata": {},
   "source": [
    "## Question 3"
   ]
  },
  {
   "cell_type": "code",
   "execution_count": 2,
   "id": "cc30e00c",
   "metadata": {},
   "outputs": [
    {
     "data": {
      "text/plain": [
       "(0.6678, 0.3384)"
      ]
     },
     "execution_count": 2,
     "metadata": {},
     "output_type": "execute_result"
    }
   ],
   "source": [
    "import random\n",
    "\n",
    "def simulate_monty_hall(num_trials, switch=True):\n",
    "    win_count = 0\n",
    "\n",
    "    for _ in range(num_trials):\n",
    "        # Assigns the position of the car to a random integer value from 0, 1, or 2 (3 values for 3 possible doors)\n",
    "        car_position = random.randint(0, 2)\n",
    "\n",
    "        # Assigns the contestants choice to the possible random integer values of 0, 1, or 2\n",
    "        contestant_choice = random.randint(0, 2)\n",
    "\n",
    "        # Reveals one of the doors that were not chosen by the contestant that does not contain the car\n",
    "        available_doors = [door for door in range(3) if door != contestant_choice and door != car_position]\n",
    "        monty_revealed_door = random.choice(available_doors)\n",
    "\n",
    "        if switch:\n",
    "            # Switches the contestants choice to the unrevealed other door\n",
    "            remaining_door = [door for door in range(3) if door != contestant_choice and door != monty_revealed_door][0]\n",
    "            if remaining_door == car_position:\n",
    "                win_count += 1\n",
    "        else:\n",
    "            # Keeps the contestants choice from prior\n",
    "            if contestant_choice == car_position:\n",
    "                win_count += 1\n",
    "\n",
    "    return win_count / float(num_trials)\n",
    "\n",
    "# Simulates 10000 trials of the code above, then prints the winrate of the two options of switching or staying\n",
    "num_trials = 10000\n",
    "switch_win_rate = simulate_monty_hall(num_trials, switch=True)\n",
    "stay_win_rate = simulate_monty_hall(num_trials, switch=False)\n",
    "\n",
    "switch_win_rate, stay_win_rate"
   ]
  },
  {
   "cell_type": "markdown",
   "id": "bd66cc9c",
   "metadata": {},
   "source": [
    "### [Chatbot session1](https://chatgpt.com/share/66ec5b75-a960-800f-8102-f2d9e90f7e51)"
   ]
  },
  {
   "cell_type": "markdown",
   "id": "60e50d24",
   "metadata": {},
   "source": [
    "## Question 4"
   ]
  },
  {
   "cell_type": "code",
   "execution_count": null,
   "id": "f35b6ffc",
   "metadata": {},
   "outputs": [],
   "source": [
    "# Markov Chains and Text Generation\n",
    "from IPython.display import YouTubeVideo\n",
    "YouTubeVideo('56mGTszb_iM', width = 550)"
   ]
  },
  {
   "cell_type": "code",
   "execution_count": 4,
   "id": "51dd503c",
   "metadata": {},
   "outputs": [],
   "source": [
    "#[ChatBot Session 1](https://chatgpt.com/share/66ec61c4-65a4-800f-9e88-a0416d49b05e)"
   ]
  },
  {
   "cell_type": "markdown",
   "id": "c2a3ecc2",
   "metadata": {},
   "source": [
    "## Question 5 "
   ]
  },
  {
   "cell_type": "markdown",
   "id": "6adc9e53",
   "metadata": {},
   "source": [
    "### [ChatBot Session 2](https://chatgpt.com/share/66ec6634-8788-800f-ab9b-6d4436f6f175)\n",
    "### [Chatbot Session 3](https://chatgpt.com/share/66ec6763-8f50-800f-b26b-a4387ff0a3ec)"
   ]
  },
  {
   "cell_type": "markdown",
   "id": "3f497dbf",
   "metadata": {},
   "source": [
    "## Question 6"
   ]
  },
  {
   "cell_type": "markdown",
   "id": "1fb1f62f",
   "metadata": {},
   "source": [
    "In my experience with interacting with chatbots to understand the Monte Hall problem and the Markovian Chatbot code, I found them to be quite helpful in pointing out the specific lines of different sections of code and their defintions, uses, and examples of how they could be used in various contexts - and ChatGPT was very quick in giving me exactly what I needed to understand. Due to how easy and efficient it was to get information from ChatGPT, I found myself quite satisfied and not in the least frustrated with the responses of the chatbot. Based on my experiences so far with ChatGPT in helping me learn, understand and write code, I believe that I am able to make a positive assessment of Chatbots to be beneficial tools in my learning journey to understand code."
   ]
  },
  {
   "cell_type": "markdown",
   "id": "e0421238",
   "metadata": {},
   "source": [
    "## Question 7"
   ]
  },
  {
   "cell_type": "markdown",
   "id": "ac5dcf11",
   "metadata": {},
   "source": [
    "Since joining this course, my perception of AI-driven tools in the context of learning code, statistics, and datascience has changed quite considerably due to my lack of prior experience in all three areas alongside a lack of prior usage of AI-driven schools, as I had never really had a chance to interact with it at all. I do believe that my initial perception was one of skepticism and doubt, as I had always been taught that you are taught things by actual people (either teachers or even on YouTube) or by literary resources such as textbooks, but after having used ChatGPT recently in this course, I am starting to develop a more positive perception in which I derive a certain utility from how AI-driven tools are able to help me in much more specific, individualised manners than traditional forms of learning (such as textbooks) in such a beneficial way."
   ]
  },
  {
   "cell_type": "markdown",
   "id": "04902821",
   "metadata": {},
   "source": [
    "## Question 8"
   ]
  },
  {
   "cell_type": "markdown",
   "id": "76e9fd31",
   "metadata": {},
   "source": [
    "### [Chat Session 4](https://chatgpt.com/share/66ec84fc-bbe0-800f-8b75-7b9212987ee5)"
   ]
  },
  {
   "cell_type": "markdown",
   "id": "9fa8c10b",
   "metadata": {},
   "source": [
    "This chatbot session yielded information regarding the relevant skills to a data scientist or a statistician, along with the fact that without experience in coding and data analytics, it may be difficult to find success in such a career - and that one might be better suited to roles related to strategy, communication, or management, as employment without such skills might be difficult due to a limited job market in computer science for an individual not well versed in necessary techincal skills. When I asked another question about necessary skills for a financial analyst, in relation to the context of the information which was inquired about in the first question, I received answers that were much more technical - regarding specific tools, along with certain topics I needed to have in-depth knowledge about to succeed.\n",
    "\n",
    "From a reflective viewpoint, I feel like the Chatbot has provided me with a list of the different skills and tools I need to pursue my desired career, and I believe having that knowledge of what I need will allow me to develop myself on a specific and structured path, by finding certain programs, certifications, and other tools that will allow me to develop what I need.\n",
    "\n",
    "My ChatBot session was very helpful due to its informative yet concise nature - if I so desired it, I could have asked a variety of follow-up questions that I'm sure the chatbot would have responded to with even more helpful information. I did not feel as though the chatbot was lacking in depth of knowledge regarding my desired area of study. "
   ]
  },
  {
   "cell_type": "markdown",
   "id": "7a5db720",
   "metadata": {},
   "source": [
    "## Question 9"
   ]
  },
  {
   "cell_type": "markdown",
   "id": "348faad0",
   "metadata": {},
   "source": [
    "Yes, I have read through the wiki and understood it with the help of Notebook LLM."
   ]
  }
 ],
 "metadata": {
  "kernelspec": {
   "display_name": "Python 3 (ipykernel)",
   "language": "python",
   "name": "python3"
  },
  "language_info": {
   "codemirror_mode": {
    "name": "ipython",
    "version": 3
   },
   "file_extension": ".py",
   "mimetype": "text/x-python",
   "name": "python",
   "nbconvert_exporter": "python",
   "pygments_lexer": "ipython3",
   "version": "3.11.6"
  }
 },
 "nbformat": 4,
 "nbformat_minor": 5
}
